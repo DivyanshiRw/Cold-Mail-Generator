{
 "cells": [
  {
   "cell_type": "code",
   "execution_count": 1,
   "id": "311f11fb",
   "metadata": {
    "scrolled": false
   },
   "outputs": [
    {
     "name": "stdout",
     "output_type": "stream",
     "text": [
      "The first person to land on the moon was Neil Armstrong. He stepped out of the lunar module Eagle and onto the moon's surface on July 20, 1969, during the Apollo 11 mission. Armstrong famously declared, \"That's one small step for man, one giant leap for mankind,\" as he became the first human to set foot on the moon.\n"
     ]
    }
   ],
   "source": [
    "from langchain_groq import ChatGroq\n",
    "\n",
    "llm = ChatGroq(\n",
    "    temperature=0,\n",
    "    groq_api_key='my_api_key',\n",
    "    model_name=\"llama-3.3-70b-versatile\"\n",
    ")\n",
    "\n",
    "response= llm.invoke(\"The first person to land on moon was...\")\n",
    "print(response.content)"
   ]
  },
  {
   "cell_type": "code",
   "execution_count": 2,
   "id": "1f275f72",
   "metadata": {},
   "outputs": [
    {
     "name": "stderr",
     "output_type": "stream",
     "text": [
      "USER_AGENT environment variable not set, consider setting it to identify your requests.\n"
     ]
    },
    {
     "name": "stdout",
     "output_type": "stream",
     "text": [
      "Software Development Engineer Internship - 2025 (US) - Job ID: 2808739 | Amazon.jobs\n",
      "Skip to main contentHomeTeamsLocationsJob categoriesMy careerMy applicationsMy profileAccount securitySettingsSign outResourcesDisability accommodationsBenefitsDiversity, equity, and inclusionInterview tipsLeadership principlesWorking at AmazonFAQ×Software Development Engineer Internship - 2025 (US)Job ID: 2808739 | Amazon.com Services LLCApply nowView transcriptDESCRIPTIONAmazon internships are full-time positions, and interns should expect to work Monday-Friday, up to 40 hours per week typically between 8am-5pm. Specific team norms around working hours will be communicated by your manager. Interns should not have conflicts such as class or other employment during the Amazon work-day. Applicants should have a minimum of one quarter/semester/trimester remaining in their studies after their internship concludes. Applicants will be considered for SDE roles including the Amazon Propel Program (APP) through this application. We will take your internship season and location preferences into consideration. Preferences are based on business availability and are not guaranteed. Please note that a majority of our internships take place in the summer. Start dates for our internships include the following periods: 1. Summer (Starts May/June) – SDE and APP 2. Fall (Starts August/September) – SDE only Amazon Propel Program (APP) Internships The Amazon Propel Program internship seeks to support candidates from historically underrepresented groups in the tech industry by providing skill and experience-based development opportunities. Software Development Engineer (SDE) Internships At Amazon, we hire the best minds in technology to innovate and build on behalf of our customers. The intense focus we have on our customers is why we are one of the world’s most beloved brands – customer obsession is part of our company DNA. Our interns write real software and collaborate with experienced software development engineers (SDEs) who guide interns on projects that matter to our customers. As an intern, you will be matched to a manager and a mentor. You will have the opportunity to influence the evolution of Amazon technology and lead critical projects early in your career. Your design and code will contribute to solving some of the most complex technical challenges in the areas of distributed systems, data mining, automation, optimization, scalability, and security – just to name a few. In addition to working on an impactful project, you will have the opportunity to engage with Amazonians for both personal and professional development, expand your network, and participate in activities with other interns throughout your internship. No matter the location of your internship, we give you the tools to own your project and learn in a real-world setting. Many of our technologies overlap, and you would be hard pressed to find a team that is not using Amazon Web Services (AWS), touching the catalogue, or iterating services to better personalize for customers. We make the impossible, possible. Key Job Responsibilities for all SDE and APP internships include: • Collaborate with experienced cross-disciplinary Amazonians to conceive, design, and bring innovative products and services to market. • Design and build innovative technologies in a large distributed computing environment, and help lead fundamental changes in the industry. • Create solutions to run predictions on distributed systems with exposure to innovative technologies at incredible scale and speed. • Build distributed storage, index, and query systems that are scalable, fault-tolerant, low cost, and easy to manage/use. • Ability to design and code the right solutions starting with broadly defined problems. • Work in an agile environment to deliver high-quality software. Locations for all SDE and APP internships: While the majority of our SDE roles are based in the greater Seattle/Bellevue, WA, and Arlington, VA area, by applying to this position your application will be considered for all locations we hire for in the United States, including but not limited to: • AZ (Phoenix, Tempe) • CA (Berkeley, Culver City, Cupertino, East Palo Alto, Irvine, Los Angeles, Manhattan Beach, Palo Alto, San Diego, San Francisco, San Jose, San Luis Obispo, Santa Barbara, Santa Clara, Santa Cruz, Santa Monica, Sunnyvale) • CO (Boulder, Denver) • GA (Atlanta, Kennesaw) • IL (Chicago) • MA (Boston, Cambridge, Hudson, North Reading, Westborough) • MD (Baltimore) • MI (Detroit) • MN (Minneapolis) • NJ (Jersey City) • NY (New York) • OR (Portland) • PA (Philadelphia, Pittsburgh) • TN (Nashville) • TX (Austin, Dallas) • VA (Arlington, Herndon) • WI (Madison) • WA (Bellevue, Seattle, Redmond) ***Locations are subject to change. *** We’re on the lookout for the curious, those who think big and want to define the world of tomorrow. At Amazon, you will grow into the high impact, visionary person you know you’re ready to be. Every day will be filled with exciting new challenges, developing new skills, and achieving personal growth. How often can you say that your work changes the world? At Amazon, you’ll say it often. Join us and define tomorrow. Applications are reviewed on a rolling basis. For an update on your status or to confirm your application was submitted successfully, please login to your candidate portal at amazon.jobs. Amazon works with a high volume of applicants so we appreciate your patience as we review applications. Pursuant to the San Francisco Fair Chance Ordinance, we will consider for employment qualified applicants with arrest and conviction records. Pursuant to the Los Angeles Fair Chance Ordinance, we will consider for employment qualified applicants with arrest and conviction records.BASIC QUALIFICATIONS- Experience with at least one modern language such as Java, Python, C++, or C# including object-oriented design- Are 18 years of age or older- Are enrolled in a Bachelor's degree or above in Computer Science, Computer Engineering, Data Science, Electrical Engineering, or majors relating to these fields- Have an expected graduate date between October 2025 - September 2028 and  be able to work 40 hours/week minimum and commit to 12 week internshipPREFERRED QUALIFICATIONS- Experience from a technical internship- Are enrolled in a academic program that is physically located in the United States- Experience in optimization mathematics such as linear programming and nonlinear optimization- Experience with distributed, multi-tiered systems, algorithms, and relational databases- Ability to effectively articulate technical challenges and solutions and adept at handling ambiguous or undefined problems as well as ability to think abstractlyAmazon is committed to a diverse and inclusive workplace. Amazon is an equal opportunity employer and does not discriminate on the basis of race, national origin, gender, gender identity, sexual orientation, protected veteran status, disability, age, or other legally protected status.Our inclusive culture empowers Amazonians to deliver the best results for our customers. If you have a disability and need a workplace accommodation or adjustment during the application and hiring process, including support for the interview or onboarding process, please visit https://amazon.jobs/content/en/how-we-hire/accommodations for more information. If the country/region you’re applying in isn’t listed, please contact your Recruiting Partner.Our compensation reflects the cost of labor across several US geographic markets. The base pay for this position ranges from $47.84/hr in our lowest geographic market up to $96.15/hr in our highest geographic market. Pay is based on a number of factors including market location and may vary depending on job-related knowledge, skills, and experience. Amazon is a total compensation company. Dependent on the position offered, equity, sign-on payments, and other forms of compensation may be provided as part of a total compensation package, in addition to a full range of medical, financial, and/or other benefits. For more information,  please visit https://www.aboutamazon.com/workplace/employee-benefits. This position will remain posted until filled. Applicants should apply via our internal or external career site.Job detailsUSA, WA, SeattleInternships for studentsSoftware DevelopmentShare this jobJOIN US ONFind CareersJob CategoriesTeamsLocationsUS and EU Military recruitingWarehouse and Hourly JobsWorking At AmazonCultureBenefitsAmazon NewsletterDiversity at AmazonOur leadership principlesHelpFAQInterview tipsReview application statusDisability accommodationsEU background checksAmazon is committed to a diverse and inclusive workplace. Amazon is an equal opportunity employer and does not discriminate on the basis of race, national origin, gender, gender identity, sexual orientation, protected veteran status, disability, age, or other legally protected status.Privacy and DataImpressum© 1996-2025, Amazon.com, Inc. or its affiliates\n"
     ]
    }
   ],
   "source": [
    "from langchain_community.document_loaders import WebBaseLoader\n",
    "\n",
    "loader= WebBaseLoader(\"https://www.amazon.jobs/en/jobs/2808739/software-development-engineer-internship-2025-us\")\n",
    "page_data= loader.load().pop().page_content\n",
    "print(page_data)"
   ]
  },
  {
   "cell_type": "code",
   "execution_count": 3,
   "id": "c387ec89",
   "metadata": {},
   "outputs": [
    {
     "data": {
      "text/plain": [
       "str"
      ]
     },
     "execution_count": 3,
     "metadata": {},
     "output_type": "execute_result"
    }
   ],
   "source": [
    "from langchain_core.prompts import PromptTemplate\n",
    "\n",
    "prompt_extract= PromptTemplate.from_template(\n",
    "\"\"\"\n",
    "### SCRAPED TEXT FROM WEBSITE:\n",
    "{page_data}\n",
    "### INSTRUCTION:\n",
    "The scraped text is from the career's page of a website.\n",
    "Your job is to extract the job postings and return them in JSON format containing the following keys:\n",
    "'role', 'experience', 'skills' and 'description'.\n",
    "Only return the valid JSON.\n",
    "### VALID JSON (NO PREAMBLE):\n",
    "\"\"\"\n",
    ")\n",
    "\n",
    "chain_extract= prompt_extract | llm\n",
    "res= chain_extract.invoke(input={'page_data': page_data})\n",
    "type(res.content)"
   ]
  },
  {
   "cell_type": "code",
   "execution_count": 4,
   "id": "9ce7500a",
   "metadata": {},
   "outputs": [
    {
     "data": {
      "text/plain": [
       "{'role': 'Software Development Engineer Internship',\n",
       " 'experience': 'At least one quarter/semester/trimester remaining in studies, experience with modern languages such as Java, Python, C++, or C#',\n",
       " 'skills': ['Java',\n",
       "  'Python',\n",
       "  'C++',\n",
       "  'C#',\n",
       "  'Object-oriented design',\n",
       "  'Distributed systems',\n",
       "  'Algorithms',\n",
       "  'Relational databases',\n",
       "  'Optimization mathematics',\n",
       "  'Linear programming',\n",
       "  'Nonlinear optimization'],\n",
       " 'description': 'Collaborate with experienced cross-disciplinary Amazonians to conceive, design, and bring innovative products and services to market. Design and build innovative technologies in a large distributed computing environment, and help lead fundamental changes in the industry.'}"
      ]
     },
     "execution_count": 4,
     "metadata": {},
     "output_type": "execute_result"
    }
   ],
   "source": [
    "from langchain_core.output_parsers import JsonOutputParser\n",
    "\n",
    "json_parser= JsonOutputParser()\n",
    "json_res= json_parser.parse(res.content)\n",
    "json_res"
   ]
  },
  {
   "cell_type": "code",
   "execution_count": 5,
   "id": "e34685e0",
   "metadata": {},
   "outputs": [
    {
     "data": {
      "text/plain": [
       "dict"
      ]
     },
     "execution_count": 5,
     "metadata": {},
     "output_type": "execute_result"
    }
   ],
   "source": [
    "type(json_res)"
   ]
  },
  {
   "cell_type": "code",
   "execution_count": 6,
   "id": "87c784d0",
   "metadata": {},
   "outputs": [
    {
     "data": {
      "text/html": [
       "<div>\n",
       "<style scoped>\n",
       "    .dataframe tbody tr th:only-of-type {\n",
       "        vertical-align: middle;\n",
       "    }\n",
       "\n",
       "    .dataframe tbody tr th {\n",
       "        vertical-align: top;\n",
       "    }\n",
       "\n",
       "    .dataframe thead th {\n",
       "        text-align: right;\n",
       "    }\n",
       "</style>\n",
       "<table border=\"1\" class=\"dataframe\">\n",
       "  <thead>\n",
       "    <tr style=\"text-align: right;\">\n",
       "      <th></th>\n",
       "      <th>Techstack</th>\n",
       "      <th>Link</th>\n",
       "    </tr>\n",
       "  </thead>\n",
       "  <tbody>\n",
       "    <tr>\n",
       "      <th>0</th>\n",
       "      <td>Python, C/C++, Java, SQL, MySQL, MongoDB</td>\n",
       "      <td>https://divyanshirw.github.io/</td>\n",
       "    </tr>\n",
       "    <tr>\n",
       "      <th>1</th>\n",
       "      <td>HTML, CSS, JavaScript, React.js, Django, Node....</td>\n",
       "      <td>https://divyanshirw.github.io/</td>\n",
       "    </tr>\n",
       "    <tr>\n",
       "      <th>2</th>\n",
       "      <td>Machine Learning, Data Science and Analysis, N...</td>\n",
       "      <td>https://divyanshirw.github.io/</td>\n",
       "    </tr>\n",
       "  </tbody>\n",
       "</table>\n",
       "</div>"
      ],
      "text/plain": [
       "                                           Techstack  \\\n",
       "0           Python, C/C++, Java, SQL, MySQL, MongoDB   \n",
       "1  HTML, CSS, JavaScript, React.js, Django, Node....   \n",
       "2  Machine Learning, Data Science and Analysis, N...   \n",
       "\n",
       "                             Link  \n",
       "0  https://divyanshirw.github.io/  \n",
       "1  https://divyanshirw.github.io/  \n",
       "2  https://divyanshirw.github.io/  "
      ]
     },
     "execution_count": 6,
     "metadata": {},
     "output_type": "execute_result"
    }
   ],
   "source": [
    "import pandas as pd\n",
    "\n",
    "df= pd.read_csv(\"my_portfolio.csv\")\n",
    "df"
   ]
  },
  {
   "cell_type": "code",
   "execution_count": 7,
   "id": "383073ad",
   "metadata": {},
   "outputs": [],
   "source": [
    "import uuid\n",
    "import chromadb\n",
    "\n",
    "client= chromadb.PersistentClient('vectorstore')\n",
    "collection= client.get_or_create_collection(name=\"portfolio\")\n",
    "\n",
    "if not collection.count():\n",
    "    for _, row in df.iterrows():\n",
    "        collection.add(documents=row[\"Techstack\"],\n",
    "                      metadatas= {\"link\": row[\"Link\"]},\n",
    "                      ids= [str(uuid.uuid4())])"
   ]
  },
  {
   "cell_type": "code",
   "execution_count": 11,
   "id": "2555a5fa",
   "metadata": {},
   "outputs": [
    {
     "data": {
      "text/plain": [
       "{'role': 'Software Development Engineer Internship',\n",
       " 'experience': 'At least one quarter/semester/trimester remaining in studies, experience with modern languages such as Java, Python, C++, or C#',\n",
       " 'skills': ['Java',\n",
       "  'Python',\n",
       "  'C++',\n",
       "  'C#',\n",
       "  'Object-oriented design',\n",
       "  'Distributed systems',\n",
       "  'Algorithms',\n",
       "  'Relational databases',\n",
       "  'Optimization mathematics',\n",
       "  'Linear programming',\n",
       "  'Nonlinear optimization'],\n",
       " 'description': 'Collaborate with experienced cross-disciplinary Amazonians to conceive, design, and bring innovative products and services to market. Design and build innovative technologies in a large distributed computing environment, and help lead fundamental changes in the industry.'}"
      ]
     },
     "execution_count": 11,
     "metadata": {},
     "output_type": "execute_result"
    }
   ],
   "source": [
    "job = json_res\n",
    "job"
   ]
  },
  {
   "cell_type": "code",
   "execution_count": 15,
   "id": "328b7b0e",
   "metadata": {},
   "outputs": [
    {
     "name": "stdout",
     "output_type": "stream",
     "text": [
      "Subject: Application for Software Development Engineer Internship\n",
      "\n",
      "Dear Hiring Manager,\n",
      "\n",
      "I am excited to express my interest in the Software Development Engineer Internship at Amazon. With a strong passion for innovative technologies and a solid foundation in computer science, I am confident that I would be a great fit for this role.\n",
      "\n",
      "As a skilled and motivated student, I possess a strong proficiency in Java, Python, and object-oriented design, which I believe are essential skills for this position. Additionally, my experience with algorithms and distributed systems has equipped me with a solid understanding of large-scale computing environments. I am eager to apply my skills and knowledge to contribute to the development of innovative products and services at Amazon.\n",
      "\n",
      "I am particularly drawn to Amazon's commitment to innovation and customer satisfaction, and I am impressed by the company's efforts to lead fundamental changes in the industry. I am excited about the opportunity to collaborate with experienced cross-disciplinary Amazonians and contribute to the company's mission.\n",
      "\n",
      "Thank you for considering my application. I would welcome the opportunity to discuss my qualifications further and learn more about the internship program. Please feel free to contact me at your convenience.\n",
      "\n",
      "Best regards,\n",
      "Divyanshi Rawat\n"
     ]
    }
   ],
   "source": [
    "prompt_email = PromptTemplate.from_template(\n",
    "    \"\"\"\n",
    "    ### JOB DESCRIPTION:\n",
    "    {job_description}\n",
    "    \n",
    "    ### INSTRUCTION:\n",
    "    You are Divyanshi Rawat, a motivated and skilled student looking for an internship opportunity. \n",
    "    Your goal is to craft a compelling cold email to apply for the internship mentioned above, \n",
    "    highlighting your relevant skills, experiences and enthusiasm for the role.\n",
    "    \n",
    "    - Address the recipient professionally.\n",
    "    - Clearly state your interest in the position.\n",
    "    - Mention 2-3 key skills or experiences that make you a strong candidate.\n",
    "    - Show enthusiasm for the company and the role.\n",
    "    - Keep it concise and action-oriented, with a polite closing.\n",
    "\n",
    "    Do not provide a preamble.\n",
    "    \n",
    "    ### EMAIL (NO PREAMBLE):\n",
    "    \"\"\"\n",
    ")\n",
    "\n",
    "chain_email = prompt_email | llm\n",
    "res = chain_email.invoke({\"job_description\": str(job)})\n",
    "print(res.content)\n"
   ]
  },
  {
   "cell_type": "code",
   "execution_count": null,
   "id": "ea85dd97",
   "metadata": {},
   "outputs": [],
   "source": []
  }
 ],
 "metadata": {
  "kernelspec": {
   "display_name": "Python 3 (ipykernel)",
   "language": "python",
   "name": "python3"
  },
  "language_info": {
   "codemirror_mode": {
    "name": "ipython",
    "version": 3
   },
   "file_extension": ".py",
   "mimetype": "text/x-python",
   "name": "python",
   "nbconvert_exporter": "python",
   "pygments_lexer": "ipython3",
   "version": "3.11.3"
  }
 },
 "nbformat": 4,
 "nbformat_minor": 5
}
